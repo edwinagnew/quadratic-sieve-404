{
 "cells": [
  {
   "cell_type": "code",
   "execution_count": null,
   "metadata": {},
   "outputs": [
    {
     "name": "stdout",
     "output_type": "stream",
     "text": [
      "finding primes...\n"
     ]
    },
    {
     "name": "stderr",
     "output_type": "stream",
     "text": [
      " 40%|███▉      | 14166/35596 [00:00<00:00, 71590.32it/s]"
     ]
    },
    {
     "name": "stdout",
     "output_type": "stream",
     "text": [
      "finding a_i's....\n"
     ]
    },
    {
     "name": "stderr",
     "output_type": "stream",
     "text": [
      "100%|██████████| 35596/35596 [00:00<00:00, 67516.80it/s]\n",
      "b-smooth count:   0% [                                        ] ETA:   0:04:40 "
     ]
    },
    {
     "name": "stdout",
     "output_type": "stream",
     "text": [
      "sieving...\n",
      "4113569793\n"
     ]
    },
    {
     "name": "stderr",
     "output_type": "stream",
     "text": [
      "b-smooth count:  74% [-----------------------------           ] ETA:   0:01:21 "
     ]
    }
   ],
   "source": [
    "import math\n",
    "import numpy as np\n",
    "\n",
    "import time\n",
    "from numba import jit\n",
    "\n",
    "from quad_funcs import *\n",
    "\n",
    "def quadratic_sieve(n, B=None, verbose=False):\n",
    "    \n",
    "\n",
    "    if B is None: B = math.ceil(math.exp(math.sqrt(math.log(n) * math.log(math.log(n)))))\n",
    "    \n",
    "    if verbose: print(\"B =\", B)\n",
    "    \n",
    "\n",
    "    \n",
    "    smooths = []\n",
    "    \n",
    "    S = []\n",
    "    \n",
    "    print(\"finding primes...\")\n",
    "    b_primes = erat_sieve(B)\n",
    "    K = len(b_primes)\n",
    "    \n",
    "    b_prod = reduce(mul, b_primes, 1)\n",
    "    \n",
    "    print(\"finding a_i's....\")\n",
    "    #A1 - find ± a_i where a_i^2 = n (mod p_i)\n",
    "    a_s = [] \n",
    "    for p in tqdm(b_primes[1:]): #what to do for 2?\n",
    "        a_s.append(find_a(n % p, p))\n",
    "    \n",
    "    \n",
    "    \n",
    "    \n",
    "    ## Trying different x values\n",
    "    \n",
    "    print(\"sieving...\")\n",
    "    \n",
    "    x = round(math.sqrt(n))\n",
    "    x_initial = x\n",
    "    \n",
    "    widgets = ['b-smooth count: ', Percentage(), ' ', Bar(marker='-',left='[',right=']'),\n",
    "           ' ', ETA(), ' ']\n",
    "\n",
    "    pbar = ProgressBar(widgets=widgets, maxval=K+1)\n",
    "    pbar.start()\n",
    "    print(x)\n",
    "    \n",
    "    while len(smooths) <= K:\n",
    "        #t = [(0, time.time())]\n",
    "        #print(len(smooths), \"/\", x - x_initial , end = \"\\r\")\n",
    "        y = (x**2) % n\n",
    "        #t.append((1, time.time()))\n",
    "        \n",
    "        #print(\"here\")\n",
    "        if is_bsmooth(b_prod, y):\n",
    "            #t.append((2, time.time()))\n",
    "            \n",
    "            factors = b_factor(b_primes, y)\n",
    "            #factors = b_factor2(b_primes, b_prod, y) #attempt at faster one\n",
    "            \n",
    "            #t.append((3, time.time()))\n",
    "            \n",
    "            \n",
    "            if verbose: print(\"x =\", x, \": \", factors)\n",
    "                \n",
    "            S.append((x, x**2 - n))\n",
    "            \n",
    "            smooths.append(factors)\n",
    "            \n",
    "            #t.append((4, time.time()))\n",
    "            \n",
    "        \n",
    "        #t.append((5, time.time()))\n",
    "        \n",
    "        #for r in range(1, len(t)):\n",
    "        #    print(t[r-1][0], \"-\", t[r][0], \": \", t[r][1] - t[r-1][1], end=\", \")\n",
    "        #print(\"\")\n",
    "            \n",
    "        x += 1\n",
    "        \n",
    "        pbar.update(len(smooths)) #this adds a little symbol at each iteration\n",
    "    pbar.finish()\n",
    "    \n",
    "    ## Gaussian elimination ....\n",
    "    print(\"mod 2ing matrix\")\n",
    "    \n",
    "    M = np.array([mod2(s) for s in smooths])\n",
    "    \n",
    "    print(\"reducing matrix\")\n",
    "   \n",
    "    red_M, elim_rows = matrix_structure_hueristic(M)\n",
    "    \n",
    "    print(\"finding dependence\")\n",
    "    \n",
    "    reduced_M, dep_rows = reduce_matrix(M)\n",
    "    \n",
    "    row_sum = [sum(elim_rows[:i]) for i in range(len(elim_rows))]\n",
    "    \n",
    "    rows = [row_sum.index(d) for d in dep_rows]\n",
    "    print(rows)\n",
    "    #rows contains the indices of M that sum to zero\n",
    "    \n",
    "    print(\"solving for x,y...\")\n",
    "    \n",
    "    x = 1\n",
    "    for r in rows:\n",
    "        x = (x * S[r][0]) % n\n",
    "    \n",
    "    y = 1 #how to use a_i's??\n",
    "    for j in range(K):\n",
    "        p = sum([smooths[r][j] for r in rows])/2\n",
    "        #y = (y * b_primes[j] ** p) % n\n",
    "        y = bin_ladder(y * b_primes[j], int(p), n)\n",
    "    \n",
    "    #y = y % n\n",
    "    #y = 1\n",
    "    #for a in a_s:\n",
    "    #    #y *= bin_ladder(a, 1/2, n)\n",
    "    #    y = (y * a**1/2) % n\n",
    "    \n",
    "\n",
    "    \n",
    "    d = gcd(x-y, n)\n",
    "    \n",
    "    print(n, \"=\", d, \"*\", n/d)\n",
    "    assert n % d == 0\n",
    "    \n",
    "    return d\n",
    "        \n",
    "        \n",
    "    \n",
    "    \n",
    "quadratic_sieve(16921456439215439701, verbose=False)\n",
    "#539873, B=19\n",
    "#16921456439215439701\n",
    "#46839566299936919234246726809"
   ]
  },
  {
   "cell_type": "code",
   "execution_count": null,
   "metadata": {},
   "outputs": [],
   "source": [
    "M = np.array([[1, 0, 0, 0, 1, 0, 0, 0,],\n",
    " [0, 0, 0, 0, 1, 0, 1, 0],\n",
    " [1, 0, 0, 0, 1, 1, 0, 0],\n",
    " [1, 0, 0, 0, 1, 0, 0, 0],\n",
    " [1, 0, 0, 0, 1, 1, 0, 0,],\n",
    " [0, 1, 1, 0, 0, 0, 1, 0,],\n",
    " [1, 1, 1, 0, 0, 0, 0, 0,],\n",
    " [1, 0, 1, 1, 0, 1, 0, 0,],\n",
    " [1, 1, 0, 1, 1, 1, 0, 0]])\n",
    "\n",
    "print(M)"
   ]
  },
  {
   "cell_type": "code",
   "execution_count": null,
   "metadata": {},
   "outputs": [],
   "source": [
    "matrix_structure_hueristic(M, verbose=True)"
   ]
  },
  {
   "cell_type": "code",
   "execution_count": null,
   "metadata": {},
   "outputs": [],
   "source": []
  },
  {
   "cell_type": "code",
   "execution_count": null,
   "metadata": {},
   "outputs": [],
   "source": []
  },
  {
   "cell_type": "code",
   "execution_count": null,
   "metadata": {},
   "outputs": [],
   "source": []
  }
 ],
 "metadata": {
  "kernelspec": {
   "display_name": "Python 3",
   "language": "python",
   "name": "python3"
  },
  "language_info": {
   "codemirror_mode": {
    "name": "ipython",
    "version": 3
   },
   "file_extension": ".py",
   "mimetype": "text/x-python",
   "name": "python",
   "nbconvert_exporter": "python",
   "pygments_lexer": "ipython3",
   "version": "3.7.4"
  }
 },
 "nbformat": 4,
 "nbformat_minor": 5
}
