{
 "cells": [
  {
   "cell_type": "code",
   "execution_count": 93,
   "id": "great-cherry",
   "metadata": {},
   "outputs": [],
   "source": [
    "#helper functions\n",
    "import math\n",
    "from sympy.ntheory import factorint\n",
    "import numpy as np\n",
    "\n",
    "def gcd(x, y): \n",
    "    while(y): \n",
    "        x, y = y, x % y \n",
    "    return x\n",
    "\n",
    "def prime(x): #TODO - improve\n",
    "    #if \n",
    "    for i in range(2, round(math.sqrt(x)) + 1):\n",
    "        if x % i == 0:\n",
    "            return False\n",
    "    return True\n",
    "\n",
    "\n",
    "def add_rows(a, b):\n",
    "    assert len(a) == len(b)\n",
    "    return np.array([(a[i] + b[i]) % 2 for i in range(len(a))])\n",
    "\n",
    "\n",
    "def reduce_matrix(M):\n",
    "\n",
    "    while not any(not r.any() for r in M):\n",
    "        #find the first 1\n",
    "        for i, row in enumerate(M):\n",
    "            #print(i)\n",
    "            ones = np.where(row == 1)\n",
    "            if len(ones) == 0:\n",
    "                print(\"found non zero row\")\n",
    "                print(M)\n",
    "                return solution\n",
    "            else:\n",
    "                col = ones[0][0]\n",
    "                #print(ones, col)\n",
    "                #print([r[col] for r in M[i + 1:]])\n",
    "                next_row = np.where(np.array([r[col] for r in M[i + 1:]]) == 1)[0][0] + i\n",
    "                #print(next_row)\n",
    "                M[i] = add_rows(M[i], M[next_row])\n",
    "                print(\"added rows\", i, \"and\", next_row, \"to get \\n\", M)\n",
    "    \n",
    "    return M\n",
    "                \n",
    "                "
   ]
  },
  {
   "cell_type": "code",
   "execution_count": 94,
   "id": "overall-pricing",
   "metadata": {},
   "outputs": [
    {
     "name": "stdout",
     "output_type": "stream",
     "text": [
      "added rows 0 and 0 to get \n",
      " [array([0, 0, 0]), array([1, 0, 1]), array([0, 0, 1]), array([1, 0, 0])]\n",
      "added rows 1 and 2 to get \n",
      " [array([0, 0, 0]), array([1, 0, 0]), array([0, 0, 1]), array([1, 0, 0])]\n"
     ]
    },
    {
     "ename": "IndexError",
     "evalue": "index 0 is out of bounds for axis 0 with size 0",
     "output_type": "error",
     "traceback": [
      "\u001b[0;31m---------------------------------------------------------------------------\u001b[0m",
      "\u001b[0;31mIndexError\u001b[0m                                Traceback (most recent call last)",
      "\u001b[0;32m<ipython-input-94-b1520ec4bda8>\u001b[0m in \u001b[0;36m<module>\u001b[0;34m\u001b[0m\n\u001b[0;32m----> 1\u001b[0;31m reduce_matrix([\n\u001b[0m\u001b[1;32m      2\u001b[0m     \u001b[0mnp\u001b[0m\u001b[0;34m.\u001b[0m\u001b[0marray\u001b[0m\u001b[0;34m(\u001b[0m\u001b[0;34m[\u001b[0m\u001b[0;36m1\u001b[0m\u001b[0;34m,\u001b[0m\u001b[0;36m1\u001b[0m\u001b[0;34m,\u001b[0m\u001b[0;36m0\u001b[0m\u001b[0;34m]\u001b[0m\u001b[0;34m)\u001b[0m\u001b[0;34m,\u001b[0m\u001b[0;34m\u001b[0m\u001b[0;34m\u001b[0m\u001b[0m\n\u001b[1;32m      3\u001b[0m     \u001b[0mnp\u001b[0m\u001b[0;34m.\u001b[0m\u001b[0marray\u001b[0m\u001b[0;34m(\u001b[0m\u001b[0;34m[\u001b[0m\u001b[0;36m1\u001b[0m\u001b[0;34m,\u001b[0m\u001b[0;36m0\u001b[0m\u001b[0;34m,\u001b[0m\u001b[0;36m1\u001b[0m\u001b[0;34m]\u001b[0m\u001b[0;34m)\u001b[0m\u001b[0;34m,\u001b[0m\u001b[0;34m\u001b[0m\u001b[0;34m\u001b[0m\u001b[0m\n\u001b[1;32m      4\u001b[0m     \u001b[0mnp\u001b[0m\u001b[0;34m.\u001b[0m\u001b[0marray\u001b[0m\u001b[0;34m(\u001b[0m\u001b[0;34m[\u001b[0m\u001b[0;36m0\u001b[0m\u001b[0;34m,\u001b[0m\u001b[0;36m0\u001b[0m\u001b[0;34m,\u001b[0m\u001b[0;36m1\u001b[0m\u001b[0;34m]\u001b[0m\u001b[0;34m)\u001b[0m\u001b[0;34m,\u001b[0m\u001b[0;34m\u001b[0m\u001b[0;34m\u001b[0m\u001b[0m\n\u001b[1;32m      5\u001b[0m     \u001b[0mnp\u001b[0m\u001b[0;34m.\u001b[0m\u001b[0marray\u001b[0m\u001b[0;34m(\u001b[0m\u001b[0;34m[\u001b[0m\u001b[0;36m1\u001b[0m\u001b[0;34m,\u001b[0m\u001b[0;36m0\u001b[0m\u001b[0;34m,\u001b[0m\u001b[0;36m0\u001b[0m\u001b[0;34m]\u001b[0m\u001b[0;34m)\u001b[0m\u001b[0;34m\u001b[0m\u001b[0;34m\u001b[0m\u001b[0m\n",
      "\u001b[0;32m<ipython-input-93-6f69c2dab607>\u001b[0m in \u001b[0;36mreduce_matrix\u001b[0;34m(M)\u001b[0m\n\u001b[1;32m     37\u001b[0m                 \u001b[0;31m#print(ones, col)\u001b[0m\u001b[0;34m\u001b[0m\u001b[0;34m\u001b[0m\u001b[0;34m\u001b[0m\u001b[0m\n\u001b[1;32m     38\u001b[0m                 \u001b[0;31m#print([r[col] for r in M[i + 1:]])\u001b[0m\u001b[0;34m\u001b[0m\u001b[0;34m\u001b[0m\u001b[0;34m\u001b[0m\u001b[0m\n\u001b[0;32m---> 39\u001b[0;31m                 \u001b[0mnext_row\u001b[0m \u001b[0;34m=\u001b[0m \u001b[0mnp\u001b[0m\u001b[0;34m.\u001b[0m\u001b[0mwhere\u001b[0m\u001b[0;34m(\u001b[0m\u001b[0mnp\u001b[0m\u001b[0;34m.\u001b[0m\u001b[0marray\u001b[0m\u001b[0;34m(\u001b[0m\u001b[0;34m[\u001b[0m\u001b[0mr\u001b[0m\u001b[0;34m[\u001b[0m\u001b[0mcol\u001b[0m\u001b[0;34m]\u001b[0m \u001b[0;32mfor\u001b[0m \u001b[0mr\u001b[0m \u001b[0;32min\u001b[0m \u001b[0mM\u001b[0m\u001b[0;34m[\u001b[0m\u001b[0mi\u001b[0m \u001b[0;34m+\u001b[0m \u001b[0;36m1\u001b[0m\u001b[0;34m:\u001b[0m\u001b[0;34m]\u001b[0m\u001b[0;34m]\u001b[0m\u001b[0;34m)\u001b[0m \u001b[0;34m==\u001b[0m \u001b[0;36m1\u001b[0m\u001b[0;34m)\u001b[0m\u001b[0;34m[\u001b[0m\u001b[0;36m0\u001b[0m\u001b[0;34m]\u001b[0m\u001b[0;34m[\u001b[0m\u001b[0;36m0\u001b[0m\u001b[0;34m]\u001b[0m \u001b[0;34m+\u001b[0m \u001b[0mi\u001b[0m\u001b[0;34m\u001b[0m\u001b[0;34m\u001b[0m\u001b[0m\n\u001b[0m\u001b[1;32m     40\u001b[0m                 \u001b[0;31m#print(next_row)\u001b[0m\u001b[0;34m\u001b[0m\u001b[0;34m\u001b[0m\u001b[0;34m\u001b[0m\u001b[0m\n\u001b[1;32m     41\u001b[0m                 \u001b[0mM\u001b[0m\u001b[0;34m[\u001b[0m\u001b[0mi\u001b[0m\u001b[0;34m]\u001b[0m \u001b[0;34m=\u001b[0m \u001b[0madd_rows\u001b[0m\u001b[0;34m(\u001b[0m\u001b[0mM\u001b[0m\u001b[0;34m[\u001b[0m\u001b[0mi\u001b[0m\u001b[0;34m]\u001b[0m\u001b[0;34m,\u001b[0m \u001b[0mM\u001b[0m\u001b[0;34m[\u001b[0m\u001b[0mnext_row\u001b[0m\u001b[0;34m]\u001b[0m\u001b[0;34m)\u001b[0m\u001b[0;34m\u001b[0m\u001b[0;34m\u001b[0m\u001b[0m\n",
      "\u001b[0;31mIndexError\u001b[0m: index 0 is out of bounds for axis 0 with size 0"
     ]
    }
   ],
   "source": [
    "reduce_matrix([\n",
    "    np.array([1,1,0]),\n",
    "    np.array([1,0,1]),\n",
    "    np.array([0,0,1]),\n",
    "    np.array([1,0,0])\n",
    "])"
   ]
  },
  {
   "cell_type": "code",
   "execution_count": null,
   "id": "stuffed-judgment",
   "metadata": {},
   "outputs": [],
   "source": []
  },
  {
   "cell_type": "code",
   "execution_count": 43,
   "id": "theoretical-designation",
   "metadata": {},
   "outputs": [
    {
     "name": "stdout",
     "output_type": "stream",
     "text": [
      "x = 735 :  [1. 0. 0. 0. 1. 0. 0. 0.]\n",
      "x = 750 :  [0. 0. 0. 0. 1. 0. 1. 0.]\n",
      "x = 783 :  [1. 0. 0. 0. 1. 1. 0. 0.]\n",
      "x = 801 :  [1. 0. 0. 0. 1. 0. 0. 0.]\n",
      "x = 933 :  [1. 0. 0. 0. 1. 1. 0. 0.]\n",
      "x = 1049 :  [0. 1. 1. 0. 0. 0. 1. 0.]\n",
      "x = 1076 :  [1. 1. 1. 0. 0. 0. 0. 0.]\n",
      "x = 1273 :  [1. 0. 1. 1. 0. 1. 0. 0.]\n"
     ]
    }
   ],
   "source": [
    "def quadratic_sieve(n, B):\n",
    "    x = round(math.sqrt(n))\n",
    "\n",
    "    \n",
    "    smooths = []\n",
    "    \n",
    "    b_primes = [i for i in range(2, B + 1) if prime(i)]\n",
    "    \n",
    "    \n",
    "    \n",
    "    ## Trying different x values\n",
    "    while len(smooths) <= len(b_primes):\n",
    "        y = (x**2) % n\n",
    "        factors = factorint(y)\n",
    "        if list(factors.keys())[-1] <= B: #is b-smooth\n",
    "            \n",
    "            exps = np.zeros(len(b_primes))\n",
    "            for f in factors:\n",
    "                exps[b_primes.index(f)] = factors[f] % 2\n",
    "                \n",
    "            print(\"x =\", x, \": \", exps)\n",
    "            smooths.append(exps)\n",
    "        x += 1\n",
    "    \n",
    "    #print(smooths)\n",
    "    ## Gaussian elimination ....\n",
    "    \n",
    "    \n",
    "quadratic_sieve(539873, 19)"
   ]
  },
  {
   "cell_type": "code",
   "execution_count": null,
   "id": "russian-religious",
   "metadata": {},
   "outputs": [],
   "source": [
    "factorint(735)"
   ]
  }
 ],
 "metadata": {
  "kernelspec": {
   "display_name": "Python 3",
   "language": "python",
   "name": "python3"
  },
  "language_info": {
   "codemirror_mode": {
    "name": "ipython",
    "version": 3
   },
   "file_extension": ".py",
   "mimetype": "text/x-python",
   "name": "python",
   "nbconvert_exporter": "python",
   "pygments_lexer": "ipython3",
   "version": "3.8.5"
  }
 },
 "nbformat": 4,
 "nbformat_minor": 5
}
